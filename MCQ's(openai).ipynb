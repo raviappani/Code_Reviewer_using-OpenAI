{
  "nbformat": 4,
  "nbformat_minor": 0,
  "metadata": {
    "colab": {
      "provenance": []
    },
    "kernelspec": {
      "name": "python3",
      "display_name": "Python 3"
    },
    "language_info": {
      "name": "python"
    }
  },
  "cells": [
    {
      "cell_type": "code",
      "execution_count": null,
      "metadata": {
        "id": "srfBGf4BCyhn"
      },
      "outputs": [],
      "source": [
        "import transformers"
      ]
    },
    {
      "cell_type": "code",
      "source": [
        "#system\n",
        "#assistant\n",
        "#user"
      ],
      "metadata": {
        "id": "sQBFfLIxDXDB"
      },
      "execution_count": null,
      "outputs": []
    },
    {
      "cell_type": "code",
      "source": [
        "pip install openai"
      ],
      "metadata": {
        "colab": {
          "base_uri": "https://localhost:8080/"
        },
        "id": "DmvaoXOxD84o",
        "outputId": "8a946692-fd02-4b7a-d384-96ff74ca05dd"
      },
      "execution_count": null,
      "outputs": [
        {
          "output_type": "stream",
          "name": "stdout",
          "text": [
            "Collecting openai\n",
            "  Downloading openai-1.37.1-py3-none-any.whl.metadata (22 kB)\n",
            "Requirement already satisfied: anyio<5,>=3.5.0 in /usr/local/lib/python3.10/dist-packages (from openai) (3.7.1)\n",
            "Requirement already satisfied: distro<2,>=1.7.0 in /usr/lib/python3/dist-packages (from openai) (1.7.0)\n",
            "Collecting httpx<1,>=0.23.0 (from openai)\n",
            "  Downloading httpx-0.27.0-py3-none-any.whl.metadata (7.2 kB)\n",
            "Requirement already satisfied: pydantic<3,>=1.9.0 in /usr/local/lib/python3.10/dist-packages (from openai) (2.8.2)\n",
            "Requirement already satisfied: sniffio in /usr/local/lib/python3.10/dist-packages (from openai) (1.3.1)\n",
            "Requirement already satisfied: tqdm>4 in /usr/local/lib/python3.10/dist-packages (from openai) (4.66.4)\n",
            "Requirement already satisfied: typing-extensions<5,>=4.7 in /usr/local/lib/python3.10/dist-packages (from openai) (4.12.2)\n",
            "Requirement already satisfied: idna>=2.8 in /usr/local/lib/python3.10/dist-packages (from anyio<5,>=3.5.0->openai) (3.7)\n",
            "Requirement already satisfied: exceptiongroup in /usr/local/lib/python3.10/dist-packages (from anyio<5,>=3.5.0->openai) (1.2.2)\n",
            "Requirement already satisfied: certifi in /usr/local/lib/python3.10/dist-packages (from httpx<1,>=0.23.0->openai) (2024.7.4)\n",
            "Collecting httpcore==1.* (from httpx<1,>=0.23.0->openai)\n",
            "  Downloading httpcore-1.0.5-py3-none-any.whl.metadata (20 kB)\n",
            "Collecting h11<0.15,>=0.13 (from httpcore==1.*->httpx<1,>=0.23.0->openai)\n",
            "  Downloading h11-0.14.0-py3-none-any.whl.metadata (8.2 kB)\n",
            "Requirement already satisfied: annotated-types>=0.4.0 in /usr/local/lib/python3.10/dist-packages (from pydantic<3,>=1.9.0->openai) (0.7.0)\n",
            "Requirement already satisfied: pydantic-core==2.20.1 in /usr/local/lib/python3.10/dist-packages (from pydantic<3,>=1.9.0->openai) (2.20.1)\n",
            "Downloading openai-1.37.1-py3-none-any.whl (337 kB)\n",
            "\u001b[2K   \u001b[90m━━━━━━━━━━━━━━━━━━━━━━━━━━━━━━━━━━━━━━━━\u001b[0m \u001b[32m337.0/337.0 kB\u001b[0m \u001b[31m8.5 MB/s\u001b[0m eta \u001b[36m0:00:00\u001b[0m\n",
            "\u001b[?25hDownloading httpx-0.27.0-py3-none-any.whl (75 kB)\n",
            "\u001b[2K   \u001b[90m━━━━━━━━━━━━━━━━━━━━━━━━━━━━━━━━━━━━━━━━\u001b[0m \u001b[32m75.6/75.6 kB\u001b[0m \u001b[31m4.5 MB/s\u001b[0m eta \u001b[36m0:00:00\u001b[0m\n",
            "\u001b[?25hDownloading httpcore-1.0.5-py3-none-any.whl (77 kB)\n",
            "\u001b[2K   \u001b[90m━━━━━━━━━━━━━━━━━━━━━━━━━━━━━━━━━━━━━━━━\u001b[0m \u001b[32m77.9/77.9 kB\u001b[0m \u001b[31m4.5 MB/s\u001b[0m eta \u001b[36m0:00:00\u001b[0m\n",
            "\u001b[?25hDownloading h11-0.14.0-py3-none-any.whl (58 kB)\n",
            "\u001b[2K   \u001b[90m━━━━━━━━━━━━━━━━━━━━━━━━━━━━━━━━━━━━━━━━\u001b[0m \u001b[32m58.3/58.3 kB\u001b[0m \u001b[31m3.3 MB/s\u001b[0m eta \u001b[36m0:00:00\u001b[0m\n",
            "\u001b[?25hInstalling collected packages: h11, httpcore, httpx, openai\n",
            "Successfully installed h11-0.14.0 httpcore-1.0.5 httpx-0.27.0 openai-1.37.1\n"
          ]
        }
      ]
    },
    {
      "cell_type": "code",
      "source": [
        "import openai"
      ],
      "metadata": {
        "id": "zmJVafbVE6cS"
      },
      "execution_count": null,
      "outputs": []
    },
    {
      "cell_type": "code",
      "source": [
        "import os\n",
        "\n",
        "from google.colab import userdata\n",
        "key=userdata.get('out')"
      ],
      "metadata": {
        "id": "od9skI2CE995"
      },
      "execution_count": null,
      "outputs": []
    },
    {
      "cell_type": "code",
      "source": [
        "os.environ['OPENAI_API_KEY']=key"
      ],
      "metadata": {
        "id": "T6v6HqgsFRpx"
      },
      "execution_count": null,
      "outputs": []
    },
    {
      "cell_type": "code",
      "source": [
        "import openai\n",
        "\n",
        "def get_initial_content():\n",
        "    content = input(\"Please provide the content: \")\n",
        "    return content\n",
        "\n",
        "def generate_response(content):\n",
        "    response =  openai.chat.completions.create(\n",
        "        model=\"gpt-3.5-turbo\",\n",
        "        messages=[\n",
        "            {\"role\": \"system\", \"content\": \"You are a helpful assistant.\"},\n",
        "            {\"role\": \"user\", \"content\": content},\n",
        "        ],\n",
        "        temperature=0.9,\n",
        "        max_tokens=100,\n",
        "    )\n",
        "    return response.choices[0].message.content\n",
        "\n",
        "def get_question_type():\n",
        "    print(\"What type of questions do you want to generate based on the content?\")\n",
        "    print(\"1. Fill in the blanks\")\n",
        "    print(\"2. Multiple-choice questions\")\n",
        "    print(\"3. Short answer questions\")\n",
        "    choice = input(\"Enter the number of your choice: \")\n",
        "    return choice\n",
        "\n",
        "def generate_questions(content, initial_response, question_type):\n",
        "    question_prompt = \"\"\n",
        "\n",
        "    if question_type == \"1\":\n",
        "        question_prompt = \"create 5 fill in the blanks based on the above content\"\n",
        "    elif question_type == \"2\":\n",
        "        question_prompt = \"create 5 multiple-choice questions based on the above content\"\n",
        "    elif question_type == \"3\":\n",
        "        question_prompt = \"create 5 short answer questions based on the above content\"\n",
        "    else:\n",
        "        print(\"Invalid choice. Please select 1, 2, or 3.\")\n",
        "        return None\n",
        "\n",
        "    response =  openai.chat.completions.create(\n",
        "        model=\"gpt-3.5-turbo\",\n",
        "        messages=[\n",
        "            {\"role\": \"system\", \"content\": \"You are a helpful assistant.\"},\n",
        "            {\"role\": \"user\", \"content\": content},\n",
        "            {\"role\": \"assistant\", \"content\": initial_response},\n",
        "            {\"role\": \"user\", \"content\": question_prompt},\n",
        "        ],\n",
        "        temperature=0.9,\n",
        "        max_tokens=300,\n",
        "    )\n",
        "    return response.choices[0].message.content\n",
        "\n",
        "def generate_answers(content, questions):\n",
        "    you = input(\"Do you want answers for the questions? (yes/no): \").strip().lower()\n",
        "    if you == \"yes\":\n",
        "        response =  openai.chat.completions.create(\n",
        "            model=\"gpt-3.5-turbo\",\n",
        "            messages=[\n",
        "                {\"role\": \"system\", \"content\": \"You are a helpful assistant.\"},\n",
        "                {\"role\": \"user\", \"content\": content},\n",
        "                {\"role\": \"assistant\", \"content\": questions},\n",
        "                {\"role\": \"user\", \"content\": \"Please provide the answers for the above questions.\"},\n",
        "            ],\n",
        "            temperature=0.9,\n",
        "            max_tokens=300,\n",
        "        )\n",
        "        return response.choices[0].message.content\n",
        "    else:\n",
        "        return \"Thank you\"\n",
        "\n",
        "def main():\n",
        "    content = get_initial_content()\n",
        "    initial_response = generate_response(content)\n",
        "    question_type = get_question_type()\n",
        "    questions = generate_questions(content, initial_response, question_type)\n",
        "    print(questions)\n",
        "    answers = generate_answers(content, questions)\n",
        "    print(answers)\n",
        "main()\n"
      ],
      "metadata": {
        "colab": {
          "base_uri": "https://localhost:8080/"
        },
        "id": "DWX9ctEUa3S-",
        "outputId": "cb0c0f25-8cad-4f07-c472-d8a3a2f0a0d3"
      },
      "execution_count": null,
      "outputs": [
        {
          "output_type": "stream",
          "name": "stdout",
          "text": [
            "Please provide the content: dhoni\n",
            "What type of questions do you want to generate based on the content?\n",
            "1. Fill in the blanks\n",
            "2. Multiple-choice questions\n",
            "3. Short answer questions\n",
            "Enter the number of your choice: 2\n",
            "1. Which sport is Mahendra Singh Dhoni associated with?\n",
            "A) Football\n",
            "B) Cricket\n",
            "C) Tennis\n",
            "D) Badminton\n",
            "\n",
            "2. What is Mahendra Singh Dhoni's commonly known as?\n",
            "A) Master Blaster\n",
            "B) The Wall\n",
            "C) Captain Cool\n",
            "D) Run Machine\n",
            "\n",
            "3. What role did MS Dhoni play in cricket?\n",
            "A) Bowler\n",
            "B) All-rounder\n",
            "C) Wicketkeeper-batsman\n",
            "D) Batsman\n",
            "\n",
            "4. Which tournament did India win under Dhoni's captaincy in 2007?\n",
            "A) ICC Cricket World Cup\n",
            "B) ICC Champions Trophy\n",
            "C) ICC T20 World Cup\n",
            "D) Asia Cup\n",
            "\n",
            "5. What is one of the qualities that MS Dhoni is known for?\n",
            "A) Aggressive behavior\n",
            "B) Short temper\n",
            "C) Exceptional leadership skills\n",
            "D) Loud and flamboyant personality\n",
            "Do you want answers for the questions? (yes/no): yes\n",
            "1. B) Cricket\n",
            "2. C) Captain Cool\n",
            "3. C) Wicketkeeper-batsman\n",
            "4. C) ICC T20 World Cup\n",
            "5. C) Exceptional leadership skills\n"
          ]
        }
      ]
    }
  ]
}